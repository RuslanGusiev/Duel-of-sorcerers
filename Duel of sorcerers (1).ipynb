{
 "cells": [
  {
   "cell_type": "code",
   "execution_count": 1,
   "metadata": {},
   "outputs": [
    {
     "name": "stdout",
     "output_type": "stream",
     "text": [
      "Gandalf won!\n"
     ]
    }
   ],
   "source": [
    "gandalf = [10, 11, 13, 30, 22, 11, 10, 33, 22, 22]\n",
    "saruman = [23, 66, 12, 43, 12, 10, 44, 23, 12, 17]\n",
    "gandalf_win = 0 # number of Gandalf victories\n",
    "saruman_win = 0 # number of Saruman victories\n",
    "\n",
    "for i in range(len(gandalf)):\n",
    "    if gandalf[i] > saruman[i]: # compare the values from lists with the same index\n",
    "        gandalf_win += 1\n",
    "    elif gandalf[i] < saruman[i]:\n",
    "        saruman_win += 1\n",
    "    else:\n",
    "        continue\n",
    "if gandalf_win > saruman_win:\n",
    "    print('Gandalf won!')\n",
    "elif gandalf_win < saruman_win:\n",
    "    print('Saruman won')\n",
    "else:\n",
    "    print('Friendship won!')"
   ]
  },
  {
   "cell_type": "code",
   "execution_count": 2,
   "metadata": {},
   "outputs": [
    {
     "name": "stdout",
     "output_type": "stream",
     "text": [
      "Gandalf won!\n",
      "Average Gandalf =  39.0\n",
      "Standard Deviation Gandalf =  15.132745950421556\n",
      "Average Saruman =  30.5\n",
      "Standard Deviation Saruman =  15.56438241627338\n"
     ]
    }
   ],
   "source": [
    "import numpy as np\n",
    "\n",
    "POWER = {\n",
    "   'Fireball': 50,\n",
    "   'Lightning bolt': 40,\n",
    "   'Magic arrow': 10,\n",
    "   'Black Tentacles': 25,\n",
    "   'Contagion': 45\n",
    "}\n",
    "\n",
    "gandalf = ['Fireball', 'Lightning bolt', 'Lightning bolt', 'Magic arrow', 'Fireball',\n",
    "          'Magic arrow', 'Lightning bolt', 'Fireball', 'Fireball', 'Fireball']\n",
    "saruman = ['Contagion', 'Contagion', 'Black Tentacles', 'Fireball', 'Black Tentacles',\n",
    "          'Lightning bolt', 'Magic arrow', 'Contagion', 'Magic arrow', 'Magic arrow']\n",
    "\n",
    "gandalf_win = 0 # number of Gandalf victories\n",
    "saruman_win = 0 # number of Saruman victories\n",
    "gandalf_value = 0\n",
    "saruman_value = 0\n",
    "gandalf_list = []\n",
    "saruman_list = []\n",
    "\n",
    "for i in range(len(gandalf)):\n",
    "    for name, value in POWER.items(): # it's loop for for dictionary\n",
    "        if gandalf[i] == name:\n",
    "            gandalf_value = value # get value for each magic kick\n",
    "        if saruman[i] == name:\n",
    "            saruman_value = value    \n",
    "    if gandalf_value > saruman_value: # compare power of kicks\n",
    "        gandalf_win += 1\n",
    "        saruman_win = 0\n",
    "    elif gandalf_value < saruman_value:\n",
    "        saruman_win += 1 \n",
    "        gandalf_win = 0\n",
    "    else:\n",
    "        continue\n",
    "    if gandalf_win == 3:\n",
    "        print('Gandalf won!')\n",
    "        break\n",
    "    if saruman_win == 3:\n",
    "        print('Saruman won')\n",
    "        break\n",
    "        \n",
    "for i in range(len(gandalf)):\n",
    "    for name, value in POWER.items():\n",
    "        if gandalf[i] == name:\n",
    "            gandalf_value = value\n",
    "        if saruman[i] == name:\n",
    "            saruman_value = value            \n",
    "    gandalf_list.append(gandalf_value) # create list with values from dictionary\n",
    "    saruman_list.append(saruman_value)\n",
    "    \n",
    "print('Average Gandalf = ', np.mean(gandalf_list)) # we have got a list with values like in a part one of this exercise\n",
    "print('Standard Deviation Gandalf = ', np.std(gandalf_list))\n",
    "print('Average Saruman = ', np.mean( saruman_list))\n",
    "print('Standard Deviation Saruman = ', np.std( saruman_list))    "
   ]
  },
  {
   "cell_type": "code",
   "execution_count": null,
   "metadata": {},
   "outputs": [],
   "source": []
  }
 ],
 "metadata": {
  "kernelspec": {
   "display_name": "Python 3",
   "language": "python",
   "name": "python3"
  },
  "language_info": {
   "codemirror_mode": {
    "name": "ipython",
    "version": 3
   },
   "file_extension": ".py",
   "mimetype": "text/x-python",
   "name": "python",
   "nbconvert_exporter": "python",
   "pygments_lexer": "ipython3",
   "version": "3.7.3"
  }
 },
 "nbformat": 4,
 "nbformat_minor": 2
}
